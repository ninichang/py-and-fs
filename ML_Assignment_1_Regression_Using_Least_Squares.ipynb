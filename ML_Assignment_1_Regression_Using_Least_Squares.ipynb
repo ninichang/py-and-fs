{
  "nbformat": 4,
  "nbformat_minor": 0,
  "metadata": {
    "kernelspec": {
      "display_name": "Python 3",
      "language": "python",
      "name": "python3"
    },
    "language_info": {
      "codemirror_mode": {
        "name": "ipython",
        "version": 3
      },
      "file_extension": ".py",
      "mimetype": "text/x-python",
      "name": "python",
      "nbconvert_exporter": "python",
      "pygments_lexer": "ipython3",
      "version": "3.7.6"
    },
    "colab": {
      "name": "ML Assignment 1 Regression Using Least Squares.ipynb",
      "provenance": [],
      "collapsed_sections": [],
      "include_colab_link": true
    }
  },
  "cells": [
    {
      "cell_type": "markdown",
      "metadata": {
        "id": "view-in-github",
        "colab_type": "text"
      },
      "source": [
        "<a href=\"https://colab.research.google.com/github/ninichang/py-and-fs/blob/master/ML_Assignment_1_Regression_Using_Least_Squares.ipynb\" target=\"_parent\"><img src=\"https://colab.research.google.com/assets/colab-badge.svg\" alt=\"Open In Colab\"/></a>"
      ]
    },
    {
      "cell_type": "markdown",
      "metadata": {
        "id": "MfFQVGRDNIbr"
      },
      "source": [
        "### 1. Generate 50 2D-data points using the following function: $y=0.4345x^3-5.607x^2+16.78x-10.61$\n"
      ]
    },
    {
      "cell_type": "code",
      "metadata": {
        "id": "DqWM26QZNIbu",
        "outputId": "6033fb5c-4074-4b6f-9862-5ed36bf80db5"
      },
      "source": [
        "import numpy as np\n",
        "import random \n",
        "\n",
        "X = []\n",
        "Y = []\n",
        "\n",
        "def generate_data(n):\n",
        "    for i in range(n):\n",
        "        # Generate X coordinate in from 0 to 9\n",
        "        x = np.random.uniform(0, 9)\n",
        "        X.append(x)\n",
        "        Y.append(0.4345*(x**3) - 5.607*(x**2) + 16.78*x - 10.61)\n",
        "    return X, Y\n",
        "\n",
        "generate_data(50)\n",
        "\n",
        "# Make X and Y into an array\n",
        "X = np.array(X)\n",
        "Y = np.array(Y)\n",
        "\n",
        "data = np.stack((X, Y), axis=-1)\n",
        "print('First 5 rows of generated data:\\n', data[0:5])"
      ],
      "execution_count": null,
      "outputs": [
        {
          "output_type": "stream",
          "text": [
            "First 5 rows of generated data:\n",
            " [[  1.90804296   4.0122032 ]\n",
            " [  5.26214136 -14.25910764]\n",
            " [  0.53258884  -3.19795015]\n",
            " [  8.51623631  -5.99307537]\n",
            " [  1.85480599   3.99644034]]\n"
          ],
          "name": "stdout"
        }
      ]
    },
    {
      "cell_type": "markdown",
      "metadata": {
        "id": "F6CUbad7NIb3"
      },
      "source": [
        "### 2. Add Gaussian random noise to the data. "
      ]
    },
    {
      "cell_type": "code",
      "metadata": {
        "id": "7OO7ymBSNIb7"
      },
      "source": [
        "%matplotlib inline\n",
        "import matplotlib.pyplot as plt\n",
        "from scipy import linalg\n",
        "\n",
        "def actual_distribution() :\n",
        "    x = np.arange(0,9,0.5)\n",
        "    y = 0.4345 * np.power(x, 3) - 5.607 * np.power ( x, 2) + 16.78 * x - 10.61\n",
        "    return x,y\n",
        "\n",
        "def add_noise(y_curve) :\n",
        "    mu = 0\n",
        "    sigma = 4.0\n",
        "    noise = np.random.normal(mu, sigma, len(y_curve))\n",
        "    y_noise = y_curve + noise\n",
        "    return y_noise"
      ],
      "execution_count": null,
      "outputs": []
    },
    {
      "cell_type": "code",
      "metadata": {
        "id": "O1YZ4YUTNIcA",
        "outputId": "32c0463c-4d96-4de7-ac5b-b7342802ddd6"
      },
      "source": [
        "# Add noise to Y coordinates\n",
        "Y_noise = add_noise(Y)\n",
        "\n",
        "# Rename data as data_noise and create a new array with updated Y cooridnates\n",
        "data_noise = np.stack((X, Y_noise), axis=-1)\n",
        "\n",
        "print('First 5 rows of noisy data:\\n', data_noise[0:5])"
      ],
      "execution_count": null,
      "outputs": [
        {
          "output_type": "stream",
          "text": [
            "First 5 rows of noisy data:\n",
            " [[  1.90804296   3.21604555]\n",
            " [  5.26214136 -13.31479705]\n",
            " [  0.53258884  -4.31845442]\n",
            " [  8.51623631  -4.7458522 ]\n",
            " [  1.85480599   2.42589241]]\n"
          ],
          "name": "stdout"
        }
      ]
    },
    {
      "cell_type": "markdown",
      "metadata": {
        "id": "xIZpMreUNIcG"
      },
      "source": [
        "### 3. Fit the generated noisy data using the least squares method based on a polynomial function."
      ]
    },
    {
      "cell_type": "code",
      "metadata": {
        "id": "YjKGagUbNIcG",
        "outputId": "6df3dc58-d194-455f-afb8-b39041a9e40a"
      },
      "source": [
        "# method 1\n",
        "def least_squares1(X, M, t):\n",
        "    \n",
        "    # t = ground truth (label) from the noisy data\n",
        "    # N x 1\n",
        "    t = np.reshape(Y_noise, (50, 1))\n",
        "    \n",
        "    # Initialize matrixX with a matrix of dimension N x 0\n",
        "    matrixX= np.zeros((len(X), 0))\n",
        "    \n",
        "    # Update each column of matrix X with the appropriate power, from 0 to M-1\n",
        "    for m in range(M):\n",
        "        matrixX = np.c_[matrixX, X**m]\n",
        "            \n",
        "    # perform checks if the dimention is not right\n",
        "    if matrixX.shape != (len(X), M):\n",
        "        print('Dimention of matrix X is wrong')\n",
        "\n",
        "    transposeX = np.transpose(matrixX)\n",
        "    inverse = np.linalg.inv(np.dot(transposeX,matrixX))\n",
        "    return np.dot(np.dot(inverse, transposeX), t)\n",
        "\n",
        "\n",
        "print('Output params with method 1: \\n', least_squares1(X, 4, Y_noise))"
      ],
      "execution_count": null,
      "outputs": [
        {
          "output_type": "stream",
          "text": [
            "Output params with method 1: \n",
            " [[-11.12755871]\n",
            " [ 16.40425253]\n",
            " [ -5.36044661]\n",
            " [  0.4100238 ]]\n"
          ],
          "name": "stdout"
        }
      ]
    },
    {
      "cell_type": "code",
      "metadata": {
        "id": "f81hPi3ENIcK",
        "outputId": "cb9d5866-5076-4dc0-864f-18540c5a02a3"
      },
      "source": [
        "def solver(x, m):\n",
        "    n = len(x)\n",
        "    matrix = np.empty((n,m))\n",
        "    for i in range(0,n):\n",
        "        for j in range (0,m):\n",
        "            matrix[i,j] = x[i]**j\n",
        "    one = np.transpose(matrix)\n",
        "    two = np.matmul(one, matrix)\n",
        "    three = np.linalg.inv(two)\n",
        "    four = np.matmul(three, np.transpose(matrix))\n",
        "    w = np.matmul(four, Y_noise)\n",
        "    return(w)\n",
        "\n",
        "print('Output params with method 1: \\n',solver(X, 4))"
      ],
      "execution_count": null,
      "outputs": [
        {
          "output_type": "stream",
          "text": [
            "Output params with method 1: \n",
            " [-11.12755871  16.40425253  -5.36044661   0.4100238 ]\n"
          ],
          "name": "stdout"
        }
      ]
    },
    {
      "cell_type": "code",
      "metadata": {
        "id": "2VX_BhX4NIcQ",
        "outputId": "ff3c6194-7700-452c-c0a3-b41755583142"
      },
      "source": [
        "# method 2\n",
        "\n",
        "def least_squares2(X, M, t):\n",
        "    \n",
        "    # Initialize matrixX with a matrix of dimension N x 0\n",
        "    matrixX= np.zeros((len(X), 0))\n",
        "    \n",
        "    # Update each column of matrix X with the appropriate power, from 0 to M-1\n",
        "    for m in range(M):\n",
        "        matrixX = np.c_[matrixX, X**m]\n",
        "    \n",
        "    # perform checks if the dimention is not right\n",
        "    if matrixX.shape != (len(X), M):\n",
        "        print('Dimention of X is wrong')\n",
        "\n",
        "    pseudoX = np.linalg.pinv(matrixX)\n",
        "    # M x N\n",
        "    \n",
        "    return np.dot(pseudoX, t)\n",
        "\n",
        "print('Output params with method 2: \\n', least_squares2(X, 4, Y_noise))"
      ],
      "execution_count": null,
      "outputs": [
        {
          "output_type": "stream",
          "text": [
            "Output params with method 2: \n",
            " [-11.12755871  16.40425253  -5.36044661   0.4100238 ]\n"
          ],
          "name": "stdout"
        }
      ]
    },
    {
      "cell_type": "markdown",
      "metadata": {
        "id": "TRCEAbwcNIcV"
      },
      "source": [
        "### 4. Show the original curve line, the noisy data, and the curve line estimated from the noisy data"
      ]
    },
    {
      "cell_type": "code",
      "metadata": {
        "id": "NM4l_fskNIcV",
        "outputId": "b73cd1fc-04ed-499d-9e82-c0b1f5b11d84"
      },
      "source": [
        "def plot(X, X_axis_lower_bound, X_axis_upper_bound, X_axis_gap, Y_noise, M, actual_distribution):\n",
        "    \n",
        "    # The red line is the original curve based on the equation. \n",
        "    plt.scatter(actual_distribution[0], actual_distribution[1], color=\"red\")\n",
        "\n",
        "    plt.plot(actual_distribution[0], actual_distribution[1], '-g', label='function', color=\"red\")\n",
        "\n",
        "\n",
        "    # The green dots are the noisy data. \n",
        "    plt.scatter(X, Y_noise, color=\"green\")\n",
        "\n",
        "    # The blue line is the estimated fitting line, by setting M\n",
        "    w = least_squares2(X, M, Y_noise)\n",
        "\n",
        "    fitted_Y = []\n",
        "    \n",
        "    # X_axis is used to fit the curve line estimated from the noisy data\n",
        "    X_axis = np.arange(X_axis_lower_bound, X_axis_upper_bound, X_axis_gap)\n",
        "\n",
        "    def fit_Y(X_axis):\n",
        "        for i in (X_axis):\n",
        "            fitted_value_each = 0\n",
        "            for w_index in range(M):\n",
        "                fitted_value_each += w[w_index]*(i**w_index)\n",
        "            fitted_Y.append(fitted_value_each)\n",
        "        return fitted_Y\n",
        "\n",
        "    plt.plot(X_axis, fit_Y(X_axis), '-g', label='function', color=\"blue\")\n",
        "    plt.xlim(X_axis_lower_bound, X_axis_upper_bound);\n",
        "    \n",
        "\n",
        "plot(X, 0, 9, 0.05, Y_noise, 4, actual_distribution())"
      ],
      "execution_count": null,
      "outputs": [
        {
          "output_type": "display_data",
          "data": {
            "image/png": "[encoded data removed]",
            "text/plain": [
              "<Figure size 432x288 with 1 Axes>"
            ]
          },
          "metadata": {
            "tags": [],
            "needs_background": "light"
          }
        }
      ]
    },
    {
      "cell_type": "markdown",
      "metadata": {
        "id": "fMogc2UlNIcZ"
      },
      "source": [
        "### 5. Compute and display the error value, E(w) "
      ]
    },
    {
      "cell_type": "code",
      "metadata": {
        "id": "gwj6lDUlNIca",
        "outputId": "3d8492dd-803b-4a8e-8696-d6cc08fad236"
      },
      "source": [
        "def error(y_n, t_n):\n",
        "    error = 0.5* np.dot(np.transpose(y_n - t_n), (y_n - t_n))\n",
        "    return error\n",
        "    \n",
        "print('E(W) = ', error(Y, Y_noise))"
      ],
      "execution_count": null,
      "outputs": [
        {
          "output_type": "stream",
          "text": [
            "E(W) =  299.3935838788044\n"
          ],
          "name": "stdout"
        }
      ]
    },
    {
      "cell_type": "markdown",
      "metadata": {
        "id": "JNPQlt2yNIcf"
      },
      "source": [
        "### 6. Display the estimated values of w "
      ]
    },
    {
      "cell_type": "code",
      "metadata": {
        "id": "bxiMTFIbNIcg",
        "outputId": "30ba9807-351d-4831-8096-9185f08d6dfa"
      },
      "source": [
        "def display_w(X, M, t_n):\n",
        "    return least_squares1(X, M,t_n)\n",
        "    \n",
        "print('The parameters (w) = \\n', display_w(X, 4, Y_noise))"
      ],
      "execution_count": null,
      "outputs": [
        {
          "output_type": "stream",
          "text": [
            "The parameters (w) = \n",
            " [[-11.12755871]\n",
            " [ 16.40425253]\n",
            " [ -5.36044661]\n",
            " [  0.4100238 ]]\n"
          ],
          "name": "stdout"
        }
      ]
    },
    {
      "cell_type": "markdown",
      "metadata": {
        "id": "zLXQpfcFNIcj"
      },
      "source": [
        "### 7. Experiment with your code by changing M to various values. Plot the values of M against those of E(w), meaning: project them onto a 2D space, where the x-axis is M and the y-axis is E(w). Try to understand the cases of underfitting and overfitting, and how they relate to the error value, E(w) "
      ]
    },
    {
      "cell_type": "code",
      "metadata": {
        "id": "JTScMJcaNIcl",
        "outputId": "5dc952b4-5427-4320-9012-366509d88873"
      },
      "source": [
        "def plotM(X, M_range, Y_noise):\n",
        "    \n",
        "    errors = []\n",
        "    Ms = []\n",
        "\n",
        "    for M in range(M_range):\n",
        "        Ms.append(M)\n",
        "        w = least_squares2(X, M, Y_noise)\n",
        "        y_n = 0\n",
        "        for m_index in range(M):\n",
        "            y_n += w[m_index]*X**(m_index)\n",
        "        errors.append(error(y_n, Y_noise))\n",
        "\n",
        "    plt.scatter(Ms, errors, color=\"black\")\n",
        "    plt.plot(Ms, errors, '-g', color=\"black\")\n",
        "    plt.xlabel(\"M\")\n",
        "    plt.ylabel(\"E(w)\")\n",
        "\n",
        "plotM(X, 60, Y_noise)"
      ],
      "execution_count": null,
      "outputs": [
        {
          "output_type": "display_data",
          "data": {
            "image/png": "[encoded data removed]",
            "text/plain": [
              "<Figure size 432x288 with 1 Axes>"
            ]
          },
          "metadata": {
            "tags": [],
            "needs_background": "light"
          }
        }
      ]
    },
    {
      "cell_type": "markdown",
      "metadata": {
        "id": "s9sLeXUlNIcp"
      },
      "source": [
        "### 8. Change the noise levels, and apply the the same operations above "
      ]
    },
    {
      "cell_type": "code",
      "metadata": {
        "id": "MfDPs9FWNIcq",
        "outputId": "5698ae17-88e1-40b3-e37c-0605e022f0cf"
      },
      "source": [
        "# Add noise 3 times\n",
        "Y_super_noise = add_noise(add_noise(add_noise(Y)))\n",
        "\n",
        "# Fit noisy data\n",
        "least_squares1(X, 4, Y_super_noise)\n",
        "\n",
        "# Show the original curve line, the noisy data, and the curve line estimated from the noisy data\n",
        "plot(X, 0, 9, 0.5, Y_super_noise, 4, actual_distribution())\n",
        "\n",
        "# Compute E(W)\n",
        "print('E(w): ', error(Y, Y_super_noise))\n",
        "\n",
        "# Display parameters w\n",
        "print('Parameters w: \\n', display_w(X, 4, Y_super_noise))\n",
        "\n",
        "plt.subplots(nrows=1, ncols=1)\n",
        "\n",
        "# Plot M and E(W) with M ranging from 0 to 60\n",
        "plotM(X, 60, Y_super_noise)"
      ],
      "execution_count": null,
      "outputs": [
        {
          "output_type": "stream",
          "text": [
            "E(w):  1271.7976452571113\n",
            "Parameters w: \n",
            " [[-11.12755871]\n",
            " [ 16.40425253]\n",
            " [ -5.36044661]\n",
            " [  0.4100238 ]]\n"
          ],
          "name": "stdout"
        },
        {
          "output_type": "display_data",
          "data": {
            "image/png": "[encoded data removed]",
            "text/plain": [
              "<Figure size 432x288 with 1 Axes>"
            ]
          },
          "metadata": {
            "tags": [],
            "needs_background": "light"
          }
        },
        {
          "output_type": "display_data",
          "data": {
            "image/png": "[encoded data removed]",
            "text/plain": [
              "<Figure size 432x288 with 1 Axes>"
            ]
          },
          "metadata": {
            "tags": [],
            "needs_background": "light"
          }
        }
      ]
    },
    {
      "cell_type": "markdown",
      "metadata": {
        "id": "m7gQHCcINIcv"
      },
      "source": [
        "### 9. Change the function for generating the data to: $y=sin(x^2+1)$, and apply the same operations as above "
      ]
    },
    {
      "cell_type": "code",
      "metadata": {
        "id": "IqsxXL-SNIcv",
        "outputId": "48837a5a-b525-4bb5-fdeb-facb0e3c91f5"
      },
      "source": [
        "# Exercise 1\n",
        "# New function that generates data using the new formula\n",
        "\n",
        "X2 = []\n",
        "Y2 = []\n",
        "\n",
        "def generate_data2(n):\n",
        "    for i in range(n):\n",
        "        x2 = np.random.uniform(0, 1)\n",
        "        X2.append(x2)\n",
        "        Y2.append(np.sin(x2**2+1))\n",
        "\n",
        "generate_data2(50)\n",
        "\n",
        "def actual_distribution2() :\n",
        "    x = np.arange(0,1,0.05)\n",
        "    y = np.sin(x**2+1)\n",
        "    return x,y\n",
        "\n",
        "def add_noise2(y_curve) :\n",
        "    mu = 0\n",
        "    sigma = 0.05\n",
        "    noise = np.random.normal(mu, sigma, len(y_curve))\n",
        "    y_noise = y_curve + noise\n",
        "    return y_noise\n",
        "\n",
        "# Make X2 and Y2 into numpy arrays\n",
        "X2 = np.array(X2)\n",
        "Y2 = np.array(Y2)\n",
        "\n",
        "# Exercise 2\n",
        "Y2_noise = add_noise2(Y2)\n",
        "\n",
        "# Exercise 3\n",
        "w = least_squares2(X2, 4, Y2_noise)\n",
        "print('Parameters (w):', w)\n",
        "\n",
        "# Exercise 4\n",
        "plt.scatter(actual_distribution2()[0], actual_distribution2()[1], color=\"red\")\n",
        "plt.plot(actual_distribution2()[0], actual_distribution2()[1], '-g', label='function', color=\"red\")\n",
        "plt.scatter(X2, Y2_noise, color=\"green\")\n",
        "\n",
        "fitted_Y = []\n",
        "def fit_Y(X_axis, M):\n",
        "    for i in (X_axis):\n",
        "        fitted_value_each = 0\n",
        "        for w_index in range(M):\n",
        "            fitted_value_each = fitted_value_each + w[w_index]*(i**w_index)\n",
        "        fitted_Y.append(fitted_value_each)\n",
        "    return fitted_Y\n",
        "\n",
        "plt.plot(actual_distribution2()[0], fit_Y(actual_distribution2()[0], 4), '-g', label='function', color=\"blue\")"
      ],
      "execution_count": null,
      "outputs": [
        {
          "output_type": "stream",
          "text": [
            "Parameters (w): [ 0.83830699 -0.03519727  0.98377007 -0.8485204 ]\n"
          ],
          "name": "stdout"
        },
        {
          "output_type": "execute_result",
          "data": {
            "text/plain": [
              "[<matplotlib.lines.Line2D at 0x7faa818c9390>]"
            ]
          },
          "metadata": {
            "tags": []
          },
          "execution_count": 13
        },
        {
          "output_type": "display_data",
          "data": {
            "image/png": "[encoded data removed]",
            "text/plain": [
              "<Figure size 432x288 with 1 Axes>"
            ]
          },
          "metadata": {
            "tags": [],
            "needs_background": "light"
          }
        }
      ]
    },
    {
      "cell_type": "code",
      "metadata": {
        "id": "aaaa8gx0NIc0",
        "outputId": "adb762e0-37d6-412b-d566-b64966a434d2"
      },
      "source": [
        "# See the effect of overfitting, when M = 12\n",
        "\n",
        "w = least_squares2(X2, 12, Y2_noise)\n",
        "print('When M = 12, w = \\n', w)\n",
        "\n",
        "# Exercise 4\n",
        "plt.scatter(actual_distribution2()[0], actual_distribution2()[1], color=\"red\")\n",
        "plt.plot(actual_distribution2()[0], actual_distribution2()[1], '-g', label='function', color=\"red\")\n",
        "plt.scatter(X2, Y2_noise, color=\"green\")\n",
        "\n",
        "fitted_Y = []\n",
        "def fit_Y(X_axis, M):\n",
        "    for i in (X_axis):\n",
        "        fitted_value_each = 0\n",
        "        for w_index in range(M):\n",
        "            fitted_value_each = fitted_value_each + w[w_index]*(i**w_index)\n",
        "        fitted_Y.append(fitted_value_each)\n",
        "    return fitted_Y\n",
        "\n",
        "plt.plot(actual_distribution2()[0], fit_Y(actual_distribution2()[0], 12), '-g', label='function', color=\"blue\")\n"
      ],
      "execution_count": null,
      "outputs": [
        {
          "output_type": "stream",
          "text": [
            "When M = 12, w = \n",
            " [ 6.78954551e-01  1.81186951e+01 -5.06924103e+02  6.28560351e+03\n",
            " -4.30144070e+04  1.80230381e+05 -4.86248379e+05  8.61467571e+05\n",
            " -9.96173962e+05  7.23800976e+05 -2.99910036e+05  5.40518074e+04]\n"
          ],
          "name": "stdout"
        },
        {
          "output_type": "execute_result",
          "data": {
            "text/plain": [
              "[<matplotlib.lines.Line2D at 0x7faa91331c90>]"
            ]
          },
          "metadata": {
            "tags": []
          },
          "execution_count": 14
        },
        {
          "output_type": "display_data",
          "data": {
            "image/png": "[encoded data removed]",
            "text/plain": [
              "<Figure size 432x288 with 1 Axes>"
            ]
          },
          "metadata": {
            "tags": [],
            "needs_background": "light"
          }
        }
      ]
    },
    {
      "cell_type": "code",
      "metadata": {
        "id": "VX843kudNIc4",
        "outputId": "db5e2f13-0736-4fa9-9900-b7ed5eaca48d"
      },
      "source": [
        "# Exercise 5\n",
        "error(Y2, Y2_noise)\n",
        "\n",
        "# Exercise 6\n",
        "display_w(X2, 4, Y2_noise)\n",
        "plt.subplots(nrows=1, ncols=1)\n",
        "\n",
        "# Exercise 7\n",
        "plotM(X2, 60, Y2_noise)"
      ],
      "execution_count": null,
      "outputs": [
        {
          "output_type": "display_data",
          "data": {
            "image/png": "[encoded data removed]",
            "text/plain": [
              "<Figure size 432x288 with 1 Axes>"
            ]
          },
          "metadata": {
            "tags": [],
            "needs_background": "light"
          }
        }
      ]
    },
    {
      "cell_type": "code",
      "metadata": {
        "id": "slNjjimkNIc8",
        "outputId": "3a688a1e-6d3a-4dcf-f1d6-fc898212a1bf"
      },
      "source": [
        "# Exercise 8: Add noise and apply same operations above.\n",
        "\n",
        "# Add noise 3 times\n",
        "Y2_super_noise = add_noise2(add_noise2(add_noise2(Y2)))\n",
        "\n",
        "# Fit noisy data\n",
        "w = least_squares2(X2, 4, Y2_super_noise)\n",
        "print('Parameters (w):', w)\n",
        "\n",
        "# Exercise 4: Show the original curve line, the noisy data, and the curve line estimated from the noisy data\n",
        "fitted_Y = []\n",
        "plt.scatter(actual_distribution2()[0], actual_distribution2()[1], color=\"red\")\n",
        "plt.plot(actual_distribution2()[0], actual_distribution2()[1], '-g', label='function', color=\"red\")\n",
        "plt.scatter(X2, Y2_super_noise, color=\"green\")\n",
        "plt.plot(actual_distribution2()[0], fit_Y(actual_distribution2()[0], 4), '-g', label='function', color=\"blue\")\n",
        "\n",
        "# Compute E(W)\n",
        "print('E(w): ', error(Y2, Y2_super_noise))\n",
        "\n",
        "# Display parameters w\n",
        "print('w: \\n', display_w(X2, 4, Y2_super_noise))\n",
        "\n",
        "plt.subplots(nrows=1, ncols=1)\n",
        "\n",
        "# Plot M and E(W)\n",
        "plotM(X2, 60, Y2_super_noise)"
      ],
      "execution_count": null,
      "outputs": [
        {
          "output_type": "stream",
          "text": [
            "Parameters (w): [ 0.80037791  0.10007243  0.91977345 -0.92795186]\n",
            "E(w):  0.11615488429028448\n",
            "w: \n",
            " [[ -6.81426621]\n",
            " [-14.55530693]\n",
            " [ 47.94166569]\n",
            " [-32.32770659]]\n"
          ],
          "name": "stdout"
        },
        {
          "output_type": "display_data",
          "data": {
            "image/png": "[encoded data removed]",
            "text/plain": [
              "<Figure size 432x288 with 1 Axes>"
            ]
          },
          "metadata": {
            "tags": [],
            "needs_background": "light"
          }
        },
        {
          "output_type": "display_data",
          "data": {
            "image/png": "[encoded data removed]",
            "text/plain": [
              "<Figure size 432x288 with 1 Axes>"
            ]
          },
          "metadata": {
            "tags": [],
            "needs_background": "light"
          }
        }
      ]
    },
    {
      "cell_type": "code",
      "metadata": {
        "id": "FezNMznxNIc_",
        "outputId": "726bc4fb-423c-42c0-8fc2-80d7980fd898"
      },
      "source": [
        "# Zoom in on the plot\n",
        "plotM(X2, 60, Y2_super_noise)\n",
        "plt.ylim(0, 0.5)"
      ],
      "execution_count": null,
      "outputs": [
        {
          "output_type": "execute_result",
          "data": {
            "text/plain": [
              "(0, 0.5)"
            ]
          },
          "metadata": {
            "tags": []
          },
          "execution_count": 30
        },
        {
          "output_type": "display_data",
          "data": {
            "image/png": "[encoded data removed]",
            "text/plain": [
              "<Figure size 432x288 with 1 Axes>"
            ]
          },
          "metadata": {
            "tags": [],
            "needs_background": "light"
          }
        }
      ]
    },
    {
      "cell_type": "code",
      "metadata": {
        "id": "0SbYljCONIdC"
      },
      "source": [
        ""
      ],
      "execution_count": null,
      "outputs": []
    },
    {
      "cell_type": "code",
      "metadata": {
        "id": "-emARfjQNIdF"
      },
      "source": [
        ""
      ],
      "execution_count": null,
      "outputs": []
    },
    {
      "cell_type": "code",
      "metadata": {
        "id": "GtyjM9DJNIdG"
      },
      "source": [
        ""
      ],
      "execution_count": null,
      "outputs": []
    }
  ]
}